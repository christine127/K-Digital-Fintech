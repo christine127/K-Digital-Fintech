{
 "cells": [
  {
   "cell_type": "code",
   "execution_count": 1,
   "metadata": {},
   "outputs": [],
   "source": [
    "import numpy as np\n",
    "import pandas as pd\n",
    "import seaborn as sns\n",
    "import matplotlib.pyplot as plt\n",
    "import warnings\n",
    "warnings.filterwarnings(action='ignore')\n",
    "\n",
    "from sklearn.model_selection import train_test_split\n",
    "from sklearn.preprocessing import StandardScaler\n",
    "from sklearn.linear_model import LinearRegression\n",
    "from sklearn.metrics import mean_squared_error\n",
    "from sklearn.model_selection import GridSearchCV, cross_val_score, KFold, cross_validate"
   ]
  },
  {
   "cell_type": "markdown",
   "metadata": {},
   "source": [
    "## 데이터 수집하기"
   ]
  },
  {
   "cell_type": "code",
   "execution_count": 2,
   "metadata": {},
   "outputs": [],
   "source": [
    "foreign= pd.read_csv(\"3년선물.csv\",encoding=\"euc-kr\")\n",
    "interest =pd.read_excel(\"interest_rate.xlsx\")\n",
    "mbs = pd.read_excel(\"K-MBS.xlsx\")"
   ]
  },
  {
   "cell_type": "code",
   "execution_count": 3,
   "metadata": {},
   "outputs": [],
   "source": [
    "mbs.drop([\"번호\",\"발행회차\"],axis=1, inplace= True)"
   ]
  },
  {
   "cell_type": "code",
   "execution_count": 4,
   "metadata": {},
   "outputs": [],
   "source": [
    "mbs.drop(0, inplace= True)"
   ]
  },
  {
   "cell_type": "code",
   "execution_count": 33,
   "metadata": {},
   "outputs": [
    {
     "ename": "AttributeError",
     "evalue": "'str' object has no attribute 'strftime'",
     "output_type": "error",
     "traceback": [
      "\u001b[1;31m---------------------------------------------------------------------------\u001b[0m",
      "\u001b[1;31mAttributeError\u001b[0m                            Traceback (most recent call last)",
      "\u001b[1;32m<ipython-input-33-3dbcfdfc6f18>\u001b[0m in \u001b[0;36m<module>\u001b[1;34m\u001b[0m\n\u001b[0;32m      2\u001b[0m \u001b[0mdates\u001b[0m \u001b[1;33m=\u001b[0m \u001b[1;33m[\u001b[0m\u001b[1;33m]\u001b[0m\u001b[1;33m\u001b[0m\u001b[1;33m\u001b[0m\u001b[0m\n\u001b[0;32m      3\u001b[0m \u001b[1;32mfor\u001b[0m \u001b[0md\u001b[0m \u001b[1;32min\u001b[0m \u001b[0mmbs\u001b[0m\u001b[1;33m.\u001b[0m\u001b[0m발행일자\u001b[0m\u001b[1;33m:\u001b[0m\u001b[1;33m\u001b[0m\u001b[1;33m\u001b[0m\u001b[0m\n\u001b[1;32m----> 4\u001b[1;33m     \u001b[0md\u001b[0m\u001b[1;33m.\u001b[0m\u001b[0mstrftime\u001b[0m\u001b[1;33m(\u001b[0m\u001b[1;34m\"%Y/%m/%d\"\u001b[0m\u001b[1;33m)\u001b[0m\u001b[1;33m\u001b[0m\u001b[1;33m\u001b[0m\u001b[0m\n\u001b[0m",
      "\u001b[1;31mAttributeError\u001b[0m: 'str' object has no attribute 'strftime'"
     ]
    }
   ],
   "source": [
    "from datetime import datetime\n",
    "dates = []\n",
    "for d in mbs.발행일자:\n",
    "    d.strftime(\"%Y/%m/%d\")"
   ]
  },
  {
   "cell_type": "code",
   "execution_count": 3,
   "metadata": {},
   "outputs": [],
   "source": [
    "interest= interest.T.drop([\"통계표\",\"단위\",\"자료구분\"])"
   ]
  },
  {
   "cell_type": "code",
   "execution_count": 4,
   "metadata": {
    "scrolled": true
   },
   "outputs": [
    {
     "data": {
      "text/html": [
       "<div>\n",
       "<style scoped>\n",
       "    .dataframe tbody tr th:only-of-type {\n",
       "        vertical-align: middle;\n",
       "    }\n",
       "\n",
       "    .dataframe tbody tr th {\n",
       "        vertical-align: top;\n",
       "    }\n",
       "\n",
       "    .dataframe thead th {\n",
       "        text-align: right;\n",
       "    }\n",
       "</style>\n",
       "<table border=\"1\" class=\"dataframe\">\n",
       "  <thead>\n",
       "    <tr style=\"text-align: right;\">\n",
       "      <th></th>\n",
       "      <th>년/월/일</th>\n",
       "      <th>외국인</th>\n",
       "    </tr>\n",
       "  </thead>\n",
       "  <tbody>\n",
       "    <tr>\n",
       "      <th>0</th>\n",
       "      <td>2019/01/02</td>\n",
       "      <td>1,359</td>\n",
       "    </tr>\n",
       "    <tr>\n",
       "      <th>1</th>\n",
       "      <td>2019/01/03</td>\n",
       "      <td>944</td>\n",
       "    </tr>\n",
       "    <tr>\n",
       "      <th>2</th>\n",
       "      <td>2019/01/04</td>\n",
       "      <td>3,128</td>\n",
       "    </tr>\n",
       "    <tr>\n",
       "      <th>3</th>\n",
       "      <td>2019/01/07</td>\n",
       "      <td>1,652</td>\n",
       "    </tr>\n",
       "    <tr>\n",
       "      <th>4</th>\n",
       "      <td>2019/01/08</td>\n",
       "      <td>1,613</td>\n",
       "    </tr>\n",
       "  </tbody>\n",
       "</table>\n",
       "</div>"
      ],
      "text/plain": [
       "        년/월/일    외국인\n",
       "0  2019/01/02  1,359\n",
       "1  2019/01/03    944\n",
       "2  2019/01/04  3,128\n",
       "3  2019/01/07  1,652\n",
       "4  2019/01/08  1,613"
      ]
     },
     "execution_count": 4,
     "metadata": {},
     "output_type": "execute_result"
    }
   ],
   "source": [
    "foreign = foreign[[\"년/월/일\",\"외국인\"]]\n",
    "foreign.head()"
   ]
  },
  {
   "cell_type": "code",
   "execution_count": 5,
   "metadata": {},
   "outputs": [],
   "source": [
    "interest.columns = interest.iloc[0,:]"
   ]
  },
  {
   "cell_type": "code",
   "execution_count": 6,
   "metadata": {},
   "outputs": [],
   "source": [
    "interest[\"년/월/일\"]= interest.index "
   ]
  },
  {
   "cell_type": "code",
   "execution_count": 7,
   "metadata": {
    "scrolled": true
   },
   "outputs": [],
   "source": [
    "feature = pd.merge(foreign, interest, on = \"년/월/일\", how='left')"
   ]
  },
  {
   "cell_type": "code",
   "execution_count": 8,
   "metadata": {},
   "outputs": [
    {
     "data": {
      "text/html": [
       "<div>\n",
       "<style scoped>\n",
       "    .dataframe tbody tr th:only-of-type {\n",
       "        vertical-align: middle;\n",
       "    }\n",
       "\n",
       "    .dataframe tbody tr th {\n",
       "        vertical-align: top;\n",
       "    }\n",
       "\n",
       "    .dataframe thead th {\n",
       "        text-align: right;\n",
       "    }\n",
       "</style>\n",
       "<table border=\"1\" class=\"dataframe\">\n",
       "  <thead>\n",
       "    <tr style=\"text-align: right;\">\n",
       "      <th></th>\n",
       "      <th>년/월/일</th>\n",
       "      <th>외국인</th>\n",
       "      <th>국고채(3년)</th>\n",
       "      <th>국고채(5년)</th>\n",
       "      <th>한국은행 기준금리</th>\n",
       "    </tr>\n",
       "  </thead>\n",
       "  <tbody>\n",
       "    <tr>\n",
       "      <th>0</th>\n",
       "      <td>2019/01/02</td>\n",
       "      <td>1,359</td>\n",
       "      <td>1.802</td>\n",
       "      <td>1.873</td>\n",
       "      <td>1.75</td>\n",
       "    </tr>\n",
       "    <tr>\n",
       "      <th>1</th>\n",
       "      <td>2019/01/03</td>\n",
       "      <td>944</td>\n",
       "      <td>1.796</td>\n",
       "      <td>1.869</td>\n",
       "      <td>1.75</td>\n",
       "    </tr>\n",
       "    <tr>\n",
       "      <th>2</th>\n",
       "      <td>2019/01/04</td>\n",
       "      <td>3,128</td>\n",
       "      <td>1.797</td>\n",
       "      <td>1.866</td>\n",
       "      <td>1.75</td>\n",
       "    </tr>\n",
       "    <tr>\n",
       "      <th>3</th>\n",
       "      <td>2019/01/07</td>\n",
       "      <td>1,652</td>\n",
       "      <td>1.807</td>\n",
       "      <td>1.877</td>\n",
       "      <td>1.75</td>\n",
       "    </tr>\n",
       "    <tr>\n",
       "      <th>4</th>\n",
       "      <td>2019/01/08</td>\n",
       "      <td>1,613</td>\n",
       "      <td>1.81</td>\n",
       "      <td>1.892</td>\n",
       "      <td>1.75</td>\n",
       "    </tr>\n",
       "    <tr>\n",
       "      <th>...</th>\n",
       "      <td>...</td>\n",
       "      <td>...</td>\n",
       "      <td>...</td>\n",
       "      <td>...</td>\n",
       "      <td>...</td>\n",
       "    </tr>\n",
       "    <tr>\n",
       "      <th>571</th>\n",
       "      <td>2021/04/26</td>\n",
       "      <td>3,156</td>\n",
       "      <td>1.119</td>\n",
       "      <td>1.602</td>\n",
       "      <td>0.5</td>\n",
       "    </tr>\n",
       "    <tr>\n",
       "      <th>572</th>\n",
       "      <td>2021/04/27</td>\n",
       "      <td>6,699</td>\n",
       "      <td>1.097</td>\n",
       "      <td>1.584</td>\n",
       "      <td>0.5</td>\n",
       "    </tr>\n",
       "    <tr>\n",
       "      <th>573</th>\n",
       "      <td>2021/04/28</td>\n",
       "      <td>-9,571</td>\n",
       "      <td>1.105</td>\n",
       "      <td>1.604</td>\n",
       "      <td>0.5</td>\n",
       "    </tr>\n",
       "    <tr>\n",
       "      <th>574</th>\n",
       "      <td>2021/04/29</td>\n",
       "      <td>-907</td>\n",
       "      <td>1.121</td>\n",
       "      <td>1.601</td>\n",
       "      <td>0.5</td>\n",
       "    </tr>\n",
       "    <tr>\n",
       "      <th>575</th>\n",
       "      <td>2021/04/30</td>\n",
       "      <td>-3,958</td>\n",
       "      <td>1.141</td>\n",
       "      <td>1.63</td>\n",
       "      <td>0.5</td>\n",
       "    </tr>\n",
       "  </tbody>\n",
       "</table>\n",
       "<p>576 rows × 5 columns</p>\n",
       "</div>"
      ],
      "text/plain": [
       "          년/월/일     외국인 국고채(3년) 국고채(5년) 한국은행 기준금리\n",
       "0    2019/01/02   1,359   1.802   1.873      1.75\n",
       "1    2019/01/03     944   1.796   1.869      1.75\n",
       "2    2019/01/04   3,128   1.797   1.866      1.75\n",
       "3    2019/01/07   1,652   1.807   1.877      1.75\n",
       "4    2019/01/08   1,613    1.81   1.892      1.75\n",
       "..          ...     ...     ...     ...       ...\n",
       "571  2021/04/26   3,156   1.119   1.602       0.5\n",
       "572  2021/04/27   6,699   1.097   1.584       0.5\n",
       "573  2021/04/28  -9,571   1.105   1.604       0.5\n",
       "574  2021/04/29    -907   1.121   1.601       0.5\n",
       "575  2021/04/30  -3,958   1.141    1.63       0.5\n",
       "\n",
       "[576 rows x 5 columns]"
      ]
     },
     "execution_count": 8,
     "metadata": {},
     "output_type": "execute_result"
    }
   ],
   "source": [
    "feature"
   ]
  },
  {
   "cell_type": "code",
   "execution_count": 9,
   "metadata": {
    "scrolled": true
   },
   "outputs": [
    {
     "data": {
      "text/plain": [
       "년/월/일        0\n",
       "외국인          0\n",
       "국고채(3년)      0\n",
       "국고채(5년)      0\n",
       "한국은행 기준금리    0\n",
       "dtype: int64"
      ]
     },
     "execution_count": 9,
     "metadata": {},
     "output_type": "execute_result"
    }
   ],
   "source": [
    "feature.isna().sum()"
   ]
  },
  {
   "cell_type": "code",
   "execution_count": 10,
   "metadata": {
    "scrolled": false
   },
   "outputs": [
    {
     "name": "stdout",
     "output_type": "stream",
     "text": [
      "<class 'pandas.core.frame.DataFrame'>\n",
      "Int64Index: 576 entries, 0 to 575\n",
      "Data columns (total 5 columns):\n",
      " #   Column     Non-Null Count  Dtype \n",
      "---  ------     --------------  ----- \n",
      " 0   년/월/일      576 non-null    object\n",
      " 1   외국인        576 non-null    object\n",
      " 2   국고채(3년)    576 non-null    object\n",
      " 3   국고채(5년)    576 non-null    object\n",
      " 4   한국은행 기준금리  576 non-null    object\n",
      "dtypes: object(5)\n",
      "memory usage: 27.0+ KB\n"
     ]
    }
   ],
   "source": [
    "feature.info()"
   ]
  },
  {
   "cell_type": "markdown",
   "metadata": {},
   "source": [
    "## 수치화"
   ]
  },
  {
   "cell_type": "code",
   "execution_count": 11,
   "metadata": {},
   "outputs": [],
   "source": [
    "number = []\n",
    "for i in range(len(feature)):\n",
    "    comma = feature.iloc[i,1].split(',')\n",
    "    if len(comma)>1:\n",
    "        num = comma[0]+comma[1]\n",
    "        num = int(num)\n",
    "        #print(num)\n",
    "    else:\n",
    "        num = int(comma[0])\n",
    "    number.append(num)\n",
    "feature.iloc[:,1] = number"
   ]
  },
  {
   "cell_type": "code",
   "execution_count": 12,
   "metadata": {},
   "outputs": [],
   "source": [
    "feature.iloc[:,2:] = feature.iloc[:,2:].astype('float32')"
   ]
  },
  {
   "cell_type": "markdown",
   "metadata": {},
   "source": [
    "## Scaling"
   ]
  },
  {
   "cell_type": "code",
   "execution_count": 13,
   "metadata": {},
   "outputs": [],
   "source": [
    "from scipy.stats import skew\n",
    "numeric_feats = feature.dtypes[feature.dtypes != \"object\"].index\n",
    "skewed_feats =  feature[numeric_feats].apply(lambda x: skew(x.dropna())) #compute skewness\n",
    "skewed_feats = skewed_feats[skewed_feats > 0.75]\n",
    "skewed_feats =skewed_feats.index\n"
   ]
  },
  {
   "cell_type": "code",
   "execution_count": 14,
   "metadata": {},
   "outputs": [
    {
     "data": {
      "text/plain": [
       "Index([], dtype='object')"
      ]
     },
     "execution_count": 14,
     "metadata": {},
     "output_type": "execute_result"
    }
   ],
   "source": [
    "skewed_feats\n",
    "## 치우쳐진 데이터는 없음"
   ]
  },
  {
   "cell_type": "code",
   "execution_count": 15,
   "metadata": {},
   "outputs": [],
   "source": [
    "scaled = []\n",
    "mean = feature.외국인.mean()\n",
    "std = feature.외국인.std()\n",
    "for i in range(len(feature)):\n",
    "    scaled_i = (i-mean)/std\n",
    "    scaled.append(scaled_i)\n",
    "feature.외국인 = scaled"
   ]
  },
  {
   "cell_type": "code",
   "execution_count": 16,
   "metadata": {
    "scrolled": false
   },
   "outputs": [
    {
     "data": {
      "text/html": [
       "<div>\n",
       "<style scoped>\n",
       "    .dataframe tbody tr th:only-of-type {\n",
       "        vertical-align: middle;\n",
       "    }\n",
       "\n",
       "    .dataframe tbody tr th {\n",
       "        vertical-align: top;\n",
       "    }\n",
       "\n",
       "    .dataframe thead th {\n",
       "        text-align: right;\n",
       "    }\n",
       "</style>\n",
       "<table border=\"1\" class=\"dataframe\">\n",
       "  <thead>\n",
       "    <tr style=\"text-align: right;\">\n",
       "      <th></th>\n",
       "      <th>년/월/일</th>\n",
       "      <th>외국인</th>\n",
       "      <th>국고채(3년)</th>\n",
       "      <th>국고채(5년)</th>\n",
       "      <th>한국은행 기준금리</th>\n",
       "    </tr>\n",
       "  </thead>\n",
       "  <tbody>\n",
       "    <tr>\n",
       "      <th>0</th>\n",
       "      <td>2019/01/02</td>\n",
       "      <td>0.015220</td>\n",
       "      <td>1.802</td>\n",
       "      <td>1.873</td>\n",
       "      <td>1.75</td>\n",
       "    </tr>\n",
       "    <tr>\n",
       "      <th>1</th>\n",
       "      <td>2019/01/03</td>\n",
       "      <td>0.015391</td>\n",
       "      <td>1.796</td>\n",
       "      <td>1.869</td>\n",
       "      <td>1.75</td>\n",
       "    </tr>\n",
       "    <tr>\n",
       "      <th>2</th>\n",
       "      <td>2019/01/04</td>\n",
       "      <td>0.015562</td>\n",
       "      <td>1.797</td>\n",
       "      <td>1.866</td>\n",
       "      <td>1.75</td>\n",
       "    </tr>\n",
       "    <tr>\n",
       "      <th>3</th>\n",
       "      <td>2019/01/07</td>\n",
       "      <td>0.015734</td>\n",
       "      <td>1.807</td>\n",
       "      <td>1.877</td>\n",
       "      <td>1.75</td>\n",
       "    </tr>\n",
       "    <tr>\n",
       "      <th>4</th>\n",
       "      <td>2019/01/08</td>\n",
       "      <td>0.015905</td>\n",
       "      <td>1.810</td>\n",
       "      <td>1.892</td>\n",
       "      <td>1.75</td>\n",
       "    </tr>\n",
       "  </tbody>\n",
       "</table>\n",
       "</div>"
      ],
      "text/plain": [
       "        년/월/일       외국인  국고채(3년)  국고채(5년)  한국은행 기준금리\n",
       "0  2019/01/02  0.015220    1.802    1.873       1.75\n",
       "1  2019/01/03  0.015391    1.796    1.869       1.75\n",
       "2  2019/01/04  0.015562    1.797    1.866       1.75\n",
       "3  2019/01/07  0.015734    1.807    1.877       1.75\n",
       "4  2019/01/08  0.015905    1.810    1.892       1.75"
      ]
     },
     "execution_count": 16,
     "metadata": {},
     "output_type": "execute_result"
    }
   ],
   "source": [
    "feature.head()"
   ]
  },
  {
   "cell_type": "code",
   "execution_count": null,
   "metadata": {},
   "outputs": [],
   "source": []
  },
  {
   "cell_type": "markdown",
   "metadata": {},
   "source": [
    "## Model"
   ]
  },
  {
   "cell_type": "code",
   "execution_count": 17,
   "metadata": {},
   "outputs": [
    {
     "data": {
      "text/plain": [
       "<AxesSubplot:>"
      ]
     },
     "execution_count": 17,
     "metadata": {},
     "output_type": "execute_result"
    },
    {
     "data": {
      "image/png": "[encoded data removed]",
      "text/plain": [
       "<Figure size 432x288 with 2 Axes>"
      ]
     },
     "metadata": {
      "needs_background": "light"
     },
     "output_type": "display_data"
    }
   ],
   "source": [
    "sns.heatmap(feature.corr(), annot= True, fmt =\"0.2g\")"
   ]
  },
  {
   "cell_type": "code",
   "execution_count": 27,
   "metadata": {
    "scrolled": true
   },
   "outputs": [],
   "source": [
    "X=  feature[[\"외국인\",\"한국은행 기준금리\"]]\n",
    "y = feature[\"국고채(3년)\"]"
   ]
  },
  {
   "cell_type": "code",
   "execution_count": 28,
   "metadata": {},
   "outputs": [
    {
     "name": "stdout",
     "output_type": "stream",
     "text": [
      "(460, 2) (116, 2) (460,) (116,)\n",
      "MSE:0.02422 RMSE 0.15563\n"
     ]
    }
   ],
   "source": [
    "X_train , X_val, y_train, y_val = train_test_split(X, y, test_size=0.2, shuffle = True,random_state=121)\n",
    "print(X_train.shape, X_val.shape, y_train.shape, y_val.shape)\n",
    "\n",
    "model1 = LinearRegression()\n",
    "model1.fit(X_train,y_train)\n",
    "\n",
    "pred = model1.predict(X_val)\n",
    "mse = mean_squared_error(y_val, pred, squared = True) #MSE\n",
    "rmse = mean_squared_error(y_val, pred, squared = False) #RMSE\n",
    "\n",
    "print(f'MSE:{mse:.5f} RMSE {rmse:.5f}')\n"
   ]
  },
  {
   "cell_type": "code",
   "execution_count": 29,
   "metadata": {
    "scrolled": true
   },
   "outputs": [
    {
     "data": {
      "text/html": [
       "<div>\n",
       "<style scoped>\n",
       "    .dataframe tbody tr th:only-of-type {\n",
       "        vertical-align: middle;\n",
       "    }\n",
       "\n",
       "    .dataframe tbody tr th {\n",
       "        vertical-align: top;\n",
       "    }\n",
       "\n",
       "    .dataframe thead th {\n",
       "        text-align: right;\n",
       "    }\n",
       "</style>\n",
       "<table border=\"1\" class=\"dataframe\">\n",
       "  <thead>\n",
       "    <tr style=\"text-align: right;\">\n",
       "      <th></th>\n",
       "      <th>외국인</th>\n",
       "      <th>한국은행 기준금리</th>\n",
       "    </tr>\n",
       "  </thead>\n",
       "  <tbody>\n",
       "    <tr>\n",
       "      <th>0</th>\n",
       "      <td>0.015220</td>\n",
       "      <td>1.75</td>\n",
       "    </tr>\n",
       "    <tr>\n",
       "      <th>1</th>\n",
       "      <td>0.015391</td>\n",
       "      <td>1.75</td>\n",
       "    </tr>\n",
       "    <tr>\n",
       "      <th>2</th>\n",
       "      <td>0.015562</td>\n",
       "      <td>1.75</td>\n",
       "    </tr>\n",
       "    <tr>\n",
       "      <th>3</th>\n",
       "      <td>0.015734</td>\n",
       "      <td>1.75</td>\n",
       "    </tr>\n",
       "    <tr>\n",
       "      <th>4</th>\n",
       "      <td>0.015905</td>\n",
       "      <td>1.75</td>\n",
       "    </tr>\n",
       "    <tr>\n",
       "      <th>...</th>\n",
       "      <td>...</td>\n",
       "      <td>...</td>\n",
       "    </tr>\n",
       "    <tr>\n",
       "      <th>571</th>\n",
       "      <td>0.113003</td>\n",
       "      <td>0.50</td>\n",
       "    </tr>\n",
       "    <tr>\n",
       "      <th>572</th>\n",
       "      <td>0.113174</td>\n",
       "      <td>0.50</td>\n",
       "    </tr>\n",
       "    <tr>\n",
       "      <th>573</th>\n",
       "      <td>0.113345</td>\n",
       "      <td>0.50</td>\n",
       "    </tr>\n",
       "    <tr>\n",
       "      <th>574</th>\n",
       "      <td>0.113517</td>\n",
       "      <td>0.50</td>\n",
       "    </tr>\n",
       "    <tr>\n",
       "      <th>575</th>\n",
       "      <td>0.113688</td>\n",
       "      <td>0.50</td>\n",
       "    </tr>\n",
       "  </tbody>\n",
       "</table>\n",
       "<p>576 rows × 2 columns</p>\n",
       "</div>"
      ],
      "text/plain": [
       "          외국인  한국은행 기준금리\n",
       "0    0.015220       1.75\n",
       "1    0.015391       1.75\n",
       "2    0.015562       1.75\n",
       "3    0.015734       1.75\n",
       "4    0.015905       1.75\n",
       "..        ...        ...\n",
       "571  0.113003       0.50\n",
       "572  0.113174       0.50\n",
       "573  0.113345       0.50\n",
       "574  0.113517       0.50\n",
       "575  0.113688       0.50\n",
       "\n",
       "[576 rows x 2 columns]"
      ]
     },
     "execution_count": 29,
     "metadata": {},
     "output_type": "execute_result"
    }
   ],
   "source": []
  },
  {
   "cell_type": "code",
   "execution_count": null,
   "metadata": {},
   "outputs": [],
   "source": []
  }
 ],
 "metadata": {
  "kernelspec": {
   "display_name": "Python 3",
   "language": "python",
   "name": "python3"
  },
  "language_info": {
   "codemirror_mode": {
    "name": "ipython",
    "version": 3
   },
   "file_extension": ".py",
   "mimetype": "text/x-python",
   "name": "python",
   "nbconvert_exporter": "python",
   "pygments_lexer": "ipython3",
   "version": "3.8.5"
  }
 },
 "nbformat": 4,
 "nbformat_minor": 4
}
