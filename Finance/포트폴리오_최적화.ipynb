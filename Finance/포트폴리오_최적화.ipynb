{
  "nbformat": 4,
  "nbformat_minor": 0,
  "metadata": {
    "colab": {
      "name": "포트폴리오 최적화.ipynb",
      "provenance": [],
      "collapsed_sections": []
    },
    "kernelspec": {
      "name": "python3",
      "display_name": "Python 3"
    },
    "language_info": {
      "name": "python"
    }
  },
  "cells": [
    {
      "cell_type": "markdown",
      "metadata": {
        "id": "9ZcyFzzilKs9"
      },
      "source": [
        "라이브러리 불러오기"
      ]
    },
    {
      "cell_type": "code",
      "metadata": {
        "id": "_P-Tyx4cjYYo",
        "colab": {
          "base_uri": "https://localhost:8080/"
        },
        "outputId": "337e8fbd-3d92-4eb6-e62b-72387ec111f2"
      },
      "source": [
        "!pip install pandas-datareader\n",
        "!pip install finance-datareader\n",
        "!pip install pykrx"
      ],
      "execution_count": null,
      "outputs": [
        {
          "output_type": "stream",
          "text": [
            "Collecting yfinance\n",
            "  Downloading https://files.pythonhosted.org/packages/a7/ee/315752b9ef281ba83c62aa7ec2e2074f85223da6e7e74efb4d3e11c0f510/yfinance-0.1.59.tar.gz\n",
            "Requirement already satisfied: pandas>=0.24 in /usr/local/lib/python3.7/dist-packages (from yfinance) (1.1.5)\n",
            "Requirement already satisfied: numpy>=1.15 in /usr/local/lib/python3.7/dist-packages (from yfinance) (1.19.5)\n",
            "Requirement already satisfied: requests>=2.20 in /usr/local/lib/python3.7/dist-packages (from yfinance) (2.23.0)\n",
            "Requirement already satisfied: multitasking>=0.0.7 in /usr/local/lib/python3.7/dist-packages (from yfinance) (0.0.9)\n",
            "Collecting lxml>=4.5.1\n",
            "\u001b[?25l  Downloading https://files.pythonhosted.org/packages/30/c0/d0526314971fc661b083ab135747dc68446a3022686da8c16d25fcf6ef07/lxml-4.6.3-cp37-cp37m-manylinux2014_x86_64.whl (6.3MB)\n",
            "\u001b[K     |████████████████████████████████| 6.3MB 7.1MB/s \n",
            "\u001b[?25hRequirement already satisfied: pytz>=2017.2 in /usr/local/lib/python3.7/dist-packages (from pandas>=0.24->yfinance) (2018.9)\n",
            "Requirement already satisfied: python-dateutil>=2.7.3 in /usr/local/lib/python3.7/dist-packages (from pandas>=0.24->yfinance) (2.8.1)\n",
            "Requirement already satisfied: chardet<4,>=3.0.2 in /usr/local/lib/python3.7/dist-packages (from requests>=2.20->yfinance) (3.0.4)\n",
            "Requirement already satisfied: certifi>=2017.4.17 in /usr/local/lib/python3.7/dist-packages (from requests>=2.20->yfinance) (2020.12.5)\n",
            "Requirement already satisfied: idna<3,>=2.5 in /usr/local/lib/python3.7/dist-packages (from requests>=2.20->yfinance) (2.10)\n",
            "Requirement already satisfied: urllib3!=1.25.0,!=1.25.1,<1.26,>=1.21.1 in /usr/local/lib/python3.7/dist-packages (from requests>=2.20->yfinance) (1.24.3)\n",
            "Requirement already satisfied: six>=1.5 in /usr/local/lib/python3.7/dist-packages (from python-dateutil>=2.7.3->pandas>=0.24->yfinance) (1.15.0)\n",
            "Building wheels for collected packages: yfinance\n",
            "  Building wheel for yfinance (setup.py) ... \u001b[?25l\u001b[?25hdone\n",
            "  Created wheel for yfinance: filename=yfinance-0.1.59-py2.py3-none-any.whl size=23455 sha256=24d678df316499f2220b2345b4e5c7044c4d32e117815b17db3ef8256db7b6a7\n",
            "  Stored in directory: /root/.cache/pip/wheels/f8/2a/0f/4b5a86e1d52e451757eb6bc17fd899629f0925c777741b6d04\n",
            "Successfully built yfinance\n",
            "Installing collected packages: lxml, yfinance\n",
            "  Found existing installation: lxml 4.2.6\n",
            "    Uninstalling lxml-4.2.6:\n",
            "      Successfully uninstalled lxml-4.2.6\n",
            "Successfully installed lxml-4.6.3 yfinance-0.1.59\n",
            "Requirement already satisfied: pandas-datareader in /usr/local/lib/python3.7/dist-packages (0.9.0)\n",
            "Requirement already satisfied: requests>=2.19.0 in /usr/local/lib/python3.7/dist-packages (from pandas-datareader) (2.23.0)\n",
            "Requirement already satisfied: lxml in /usr/local/lib/python3.7/dist-packages (from pandas-datareader) (4.6.3)\n",
            "Requirement already satisfied: pandas>=0.23 in /usr/local/lib/python3.7/dist-packages (from pandas-datareader) (1.1.5)\n",
            "Requirement already satisfied: chardet<4,>=3.0.2 in /usr/local/lib/python3.7/dist-packages (from requests>=2.19.0->pandas-datareader) (3.0.4)\n",
            "Requirement already satisfied: urllib3!=1.25.0,!=1.25.1,<1.26,>=1.21.1 in /usr/local/lib/python3.7/dist-packages (from requests>=2.19.0->pandas-datareader) (1.24.3)\n",
            "Requirement already satisfied: certifi>=2017.4.17 in /usr/local/lib/python3.7/dist-packages (from requests>=2.19.0->pandas-datareader) (2020.12.5)\n",
            "Requirement already satisfied: idna<3,>=2.5 in /usr/local/lib/python3.7/dist-packages (from requests>=2.19.0->pandas-datareader) (2.10)\n",
            "Requirement already satisfied: pytz>=2017.2 in /usr/local/lib/python3.7/dist-packages (from pandas>=0.23->pandas-datareader) (2018.9)\n",
            "Requirement already satisfied: numpy>=1.15.4 in /usr/local/lib/python3.7/dist-packages (from pandas>=0.23->pandas-datareader) (1.19.5)\n",
            "Requirement already satisfied: python-dateutil>=2.7.3 in /usr/local/lib/python3.7/dist-packages (from pandas>=0.23->pandas-datareader) (2.8.1)\n",
            "Requirement already satisfied: six>=1.5 in /usr/local/lib/python3.7/dist-packages (from python-dateutil>=2.7.3->pandas>=0.23->pandas-datareader) (1.15.0)\n",
            "Collecting finance-datareader\n",
            "  Downloading https://files.pythonhosted.org/packages/83/5e/54306e72b5ff5d5ec6cc9f32cdf19602237f9bb70d64efcd527338388be3/finance_datareader-0.9.31-py3-none-any.whl\n",
            "Requirement already satisfied: requests>=2.3.0 in /usr/local/lib/python3.7/dist-packages (from finance-datareader) (2.23.0)\n",
            "Collecting requests-file\n",
            "  Downloading https://files.pythonhosted.org/packages/77/86/cdb5e8eaed90796aa83a6d9f75cfbd37af553c47a291cd47bc410ef9bdb2/requests_file-1.5.1-py2.py3-none-any.whl\n",
            "Requirement already satisfied: tqdm in /usr/local/lib/python3.7/dist-packages (from finance-datareader) (4.41.1)\n",
            "Requirement already satisfied: lxml in /usr/local/lib/python3.7/dist-packages (from finance-datareader) (4.6.3)\n",
            "Requirement already satisfied: pandas>=0.19.2 in /usr/local/lib/python3.7/dist-packages (from finance-datareader) (1.1.5)\n",
            "Requirement already satisfied: urllib3!=1.25.0,!=1.25.1,<1.26,>=1.21.1 in /usr/local/lib/python3.7/dist-packages (from requests>=2.3.0->finance-datareader) (1.24.3)\n",
            "Requirement already satisfied: certifi>=2017.4.17 in /usr/local/lib/python3.7/dist-packages (from requests>=2.3.0->finance-datareader) (2020.12.5)\n",
            "Requirement already satisfied: chardet<4,>=3.0.2 in /usr/local/lib/python3.7/dist-packages (from requests>=2.3.0->finance-datareader) (3.0.4)\n",
            "Requirement already satisfied: idna<3,>=2.5 in /usr/local/lib/python3.7/dist-packages (from requests>=2.3.0->finance-datareader) (2.10)\n",
            "Requirement already satisfied: six in /usr/local/lib/python3.7/dist-packages (from requests-file->finance-datareader) (1.15.0)\n",
            "Requirement already satisfied: numpy>=1.15.4 in /usr/local/lib/python3.7/dist-packages (from pandas>=0.19.2->finance-datareader) (1.19.5)\n",
            "Requirement already satisfied: pytz>=2017.2 in /usr/local/lib/python3.7/dist-packages (from pandas>=0.19.2->finance-datareader) (2018.9)\n",
            "Requirement already satisfied: python-dateutil>=2.7.3 in /usr/local/lib/python3.7/dist-packages (from pandas>=0.19.2->finance-datareader) (2.8.1)\n",
            "Installing collected packages: requests-file, finance-datareader\n",
            "Successfully installed finance-datareader-0.9.31 requests-file-1.5.1\n",
            "Collecting pykrx\n",
            "\u001b[?25l  Downloading https://files.pythonhosted.org/packages/1f/51/7e44542028474efe2ee28831b24080362f88e601045e5327c2f01c0ee7c7/pykrx-1.0.14-py3-none-any.whl (81kB)\n",
            "\u001b[K     |████████████████████████████████| 81kB 3.6MB/s \n",
            "\u001b[?25hRequirement already satisfied: requests in /usr/local/lib/python3.7/dist-packages (from pykrx) (2.23.0)\n",
            "Collecting deprecated\n",
            "  Downloading https://files.pythonhosted.org/packages/fb/73/994edfcba74443146c84b91921fcc269374354118d4f452fb0c54c1cbb12/Deprecated-1.2.12-py2.py3-none-any.whl\n",
            "Collecting datetime\n",
            "\u001b[?25l  Downloading https://files.pythonhosted.org/packages/73/22/a5297f3a1f92468cc737f8ce7ba6e5f245fcfafeae810ba37bd1039ea01c/DateTime-4.3-py2.py3-none-any.whl (60kB)\n",
            "\u001b[K     |████████████████████████████████| 61kB 5.8MB/s \n",
            "\u001b[?25hRequirement already satisfied: numpy in /usr/local/lib/python3.7/dist-packages (from pykrx) (1.19.5)\n",
            "Requirement already satisfied: pandas in /usr/local/lib/python3.7/dist-packages (from pykrx) (1.1.5)\n",
            "Requirement already satisfied: xlrd in /usr/local/lib/python3.7/dist-packages (from pykrx) (1.1.0)\n",
            "Requirement already satisfied: chardet<4,>=3.0.2 in /usr/local/lib/python3.7/dist-packages (from requests->pykrx) (3.0.4)\n",
            "Requirement already satisfied: urllib3!=1.25.0,!=1.25.1,<1.26,>=1.21.1 in /usr/local/lib/python3.7/dist-packages (from requests->pykrx) (1.24.3)\n",
            "Requirement already satisfied: certifi>=2017.4.17 in /usr/local/lib/python3.7/dist-packages (from requests->pykrx) (2020.12.5)\n",
            "Requirement already satisfied: idna<3,>=2.5 in /usr/local/lib/python3.7/dist-packages (from requests->pykrx) (2.10)\n",
            "Requirement already satisfied: wrapt<2,>=1.10 in /usr/local/lib/python3.7/dist-packages (from deprecated->pykrx) (1.12.1)\n",
            "Requirement already satisfied: pytz in /usr/local/lib/python3.7/dist-packages (from datetime->pykrx) (2018.9)\n",
            "Collecting zope.interface\n",
            "\u001b[?25l  Downloading https://files.pythonhosted.org/packages/bb/a7/94e1a92c71436f934cdd2102826fa041c83dcb7d21dd0f1fb1a57f6e0620/zope.interface-5.4.0-cp37-cp37m-manylinux2010_x86_64.whl (251kB)\n",
            "\u001b[K     |████████████████████████████████| 256kB 30.4MB/s \n",
            "\u001b[?25hRequirement already satisfied: python-dateutil>=2.7.3 in /usr/local/lib/python3.7/dist-packages (from pandas->pykrx) (2.8.1)\n",
            "Requirement already satisfied: setuptools in /usr/local/lib/python3.7/dist-packages (from zope.interface->datetime->pykrx) (57.0.0)\n",
            "Requirement already satisfied: six>=1.5 in /usr/local/lib/python3.7/dist-packages (from python-dateutil>=2.7.3->pandas->pykrx) (1.15.0)\n",
            "Installing collected packages: deprecated, zope.interface, datetime, pykrx\n",
            "Successfully installed datetime-4.3 deprecated-1.2.12 pykrx-1.0.14 zope.interface-5.4.0\n"
          ],
          "name": "stdout"
        }
      ]
    },
    {
      "cell_type": "code",
      "metadata": {
        "id": "v4KiMWALjfxL"
      },
      "source": [
        "import numpy as np\n",
        "import pandas as pd\n",
        "import matplotlib.pyplot as plt\n",
        "\n",
        "from pandas_datareader import data as pdr\n",
        "import FinanceDataReader as fdr\n",
        "from pykrx import stock\n",
        "\n",
        "import warnings \n",
        "warnings.filterwarnings('ignore')"
      ],
      "execution_count": null,
      "outputs": []
    },
    {
      "cell_type": "markdown",
      "metadata": {
        "id": "fVtgkakCgYwb"
      },
      "source": [
        "### 공통함수"
      ]
    },
    {
      "cell_type": "markdown",
      "metadata": {
        "id": "151TAih5gOre"
      },
      "source": [
        "종목코드 검색 함수"
      ]
    },
    {
      "cell_type": "code",
      "metadata": {
        "id": "srwgqFW3gbys"
      },
      "source": [
        "def my_ticker(names):    \n",
        "    df_code = pd.read_html('http://kind.krx.co.kr/corpgeneral/corpList.do?method=download', header=0)[0]\n",
        "    df_code.종목코드 = df_code.종목코드.map('{:06d}'.format)\n",
        "\n",
        "    df_code = df_code[['회사명', '종목코드']]\n",
        "    code_list = []\n",
        "    for name in names:\n",
        "        code = df_code.query(\"회사명=='{}'\".format(name))['종목코드'].to_string(index=False)\n",
        "        code = code.split(' ')[1]\n",
        "        code_list.append(code)\n",
        "    return code_list"
      ],
      "execution_count": null,
      "outputs": []
    },
    {
      "cell_type": "code",
      "metadata": {
        "id": "KfFTXBfdgkrr"
      },
      "source": [
        "def my_krx(start, end, *codes):\n",
        "    df = pd.DataFrame()\n",
        "    for code in codes:\n",
        "        krx_df = stock.get_market_ohlcv_by_date('20100101', '20191231', stock_code[i])\n",
        "        krx_df.reset_index(inplace=True)\n",
        "        krx_df.insert(loc=1, column='종목코드', value=stock_code[i])\n",
        "        krx_df.columns = ['date', 'code', 'open', 'high', 'low', 'close','volume']\n",
        "    return df"
      ],
      "execution_count": null,
      "outputs": []
    },
    {
      "cell_type": "code",
      "metadata": {
        "colab": {
          "base_uri": "https://localhost:8080/"
        },
        "id": "bqm-MfrwqfrH",
        "outputId": "97391e1b-5125-4482-cf34-15a12648b9b8"
      },
      "source": [
        "stocks = ['삼성전자', 'SK하이닉스', '현대자동차', 'NAVER']\n",
        "stock_code= my_ticker(stocks)\n",
        "print(tickers)"
      ],
      "execution_count": null,
      "outputs": [
        {
          "output_type": "stream",
          "text": [
            "['005930', '000660', '005380', '035420']\n"
          ],
          "name": "stdout"
        }
      ]
    },
    {
      "cell_type": "code",
      "metadata": {
        "id": "6LeeEp3tgq_j"
      },
      "source": [
        "krx_df = pd.DataFrame()\n",
        "df = pd.DataFrame()\n",
        "for i, sname in enumerate(stocks):\n",
        "  krx_df = stock.get_market_ohlcv_by_date('20100101', '20191231', stock_code[i])\n",
        "  krx_df.reset_index(inplace=True)\n",
        "  krx_df.insert(loc=1, column='종목코드', value=stock_code[i])\n",
        "  krx_df.columns = ['date', 'code', 'open', 'high', 'low', 'close','volume']\n",
        "  df[sname]= krx_df['close']\n",
        "\n"
      ],
      "execution_count": null,
      "outputs": []
    },
    {
      "cell_type": "code",
      "metadata": {
        "colab": {
          "base_uri": "https://localhost:8080/",
          "height": 417
        },
        "id": "VJ1Qltg-bvHi",
        "outputId": "e9c81a75-961a-42a2-bcc9-dc8e2a7c6fd6"
      },
      "source": [
        "df"
      ],
      "execution_count": null,
      "outputs": [
        {
          "output_type": "execute_result",
          "data": {
            "text/html": [
              "<div>\n",
              "<style scoped>\n",
              "    .dataframe tbody tr th:only-of-type {\n",
              "        vertical-align: middle;\n",
              "    }\n",
              "\n",
              "    .dataframe tbody tr th {\n",
              "        vertical-align: top;\n",
              "    }\n",
              "\n",
              "    .dataframe thead th {\n",
              "        text-align: right;\n",
              "    }\n",
              "</style>\n",
              "<table border=\"1\" class=\"dataframe\">\n",
              "  <thead>\n",
              "    <tr style=\"text-align: right;\">\n",
              "      <th></th>\n",
              "      <th>삼성전자</th>\n",
              "      <th>SK하이닉스</th>\n",
              "      <th>현대자동차</th>\n",
              "      <th>NAVER</th>\n",
              "    </tr>\n",
              "  </thead>\n",
              "  <tbody>\n",
              "    <tr>\n",
              "      <th>0</th>\n",
              "      <td>16180</td>\n",
              "      <td>24100</td>\n",
              "      <td>119000</td>\n",
              "      <td>60583</td>\n",
              "    </tr>\n",
              "    <tr>\n",
              "      <th>1</th>\n",
              "      <td>16440</td>\n",
              "      <td>23350</td>\n",
              "      <td>110000</td>\n",
              "      <td>60583</td>\n",
              "    </tr>\n",
              "    <tr>\n",
              "      <th>2</th>\n",
              "      <td>16820</td>\n",
              "      <td>24550</td>\n",
              "      <td>111000</td>\n",
              "      <td>60269</td>\n",
              "    </tr>\n",
              "    <tr>\n",
              "      <th>3</th>\n",
              "      <td>16260</td>\n",
              "      <td>24400</td>\n",
              "      <td>106000</td>\n",
              "      <td>60426</td>\n",
              "    </tr>\n",
              "    <tr>\n",
              "      <th>4</th>\n",
              "      <td>16420</td>\n",
              "      <td>24650</td>\n",
              "      <td>106000</td>\n",
              "      <td>58386</td>\n",
              "    </tr>\n",
              "    <tr>\n",
              "      <th>...</th>\n",
              "      <td>...</td>\n",
              "      <td>...</td>\n",
              "      <td>...</td>\n",
              "      <td>...</td>\n",
              "    </tr>\n",
              "    <tr>\n",
              "      <th>2461</th>\n",
              "      <td>55500</td>\n",
              "      <td>94600</td>\n",
              "      <td>122500</td>\n",
              "      <td>184000</td>\n",
              "    </tr>\n",
              "    <tr>\n",
              "      <th>2462</th>\n",
              "      <td>55000</td>\n",
              "      <td>93800</td>\n",
              "      <td>122000</td>\n",
              "      <td>182000</td>\n",
              "    </tr>\n",
              "    <tr>\n",
              "      <th>2463</th>\n",
              "      <td>55400</td>\n",
              "      <td>94800</td>\n",
              "      <td>122500</td>\n",
              "      <td>180500</td>\n",
              "    </tr>\n",
              "    <tr>\n",
              "      <th>2464</th>\n",
              "      <td>56500</td>\n",
              "      <td>96000</td>\n",
              "      <td>120500</td>\n",
              "      <td>183500</td>\n",
              "    </tr>\n",
              "    <tr>\n",
              "      <th>2465</th>\n",
              "      <td>55800</td>\n",
              "      <td>94100</td>\n",
              "      <td>120500</td>\n",
              "      <td>186500</td>\n",
              "    </tr>\n",
              "  </tbody>\n",
              "</table>\n",
              "<p>2466 rows × 4 columns</p>\n",
              "</div>"
            ],
            "text/plain": [
              "       삼성전자  SK하이닉스   현대자동차   NAVER\n",
              "0     16180   24100  119000   60583\n",
              "1     16440   23350  110000   60583\n",
              "2     16820   24550  111000   60269\n",
              "3     16260   24400  106000   60426\n",
              "4     16420   24650  106000   58386\n",
              "...     ...     ...     ...     ...\n",
              "2461  55500   94600  122500  184000\n",
              "2462  55000   93800  122000  182000\n",
              "2463  55400   94800  122500  180500\n",
              "2464  56500   96000  120500  183500\n",
              "2465  55800   94100  120500  186500\n",
              "\n",
              "[2466 rows x 4 columns]"
            ]
          },
          "metadata": {
            "tags": []
          },
          "execution_count": 174
        }
      ]
    },
    {
      "cell_type": "code",
      "metadata": {
        "colab": {
          "base_uri": "https://localhost:8080/",
          "height": 203
        },
        "id": "G0DmxDs_gViy",
        "outputId": "3b9ba57d-c8d2-4d8c-b4cc-182d81b56754"
      },
      "source": [
        "#이동평균가\n",
        "temp = df[['삼성전자','SK하이닉스']].copy()\n",
        "temp['어제shift(1)'] = df['SK하이닉스'].shift(1)\n",
        "temp['변동가'] =   df['SK하이닉스'] - temp['어제shift(1)'] \n",
        "temp['어제pct_ch()'] = df['SK하이닉스'].pct_change(-1) #변동률\n",
        "temp['이동평균가(rolling)'] = df['SK하이닉스'].rolling(2).mean()\n",
        "temp.head()\n"
      ],
      "execution_count": null,
      "outputs": [
        {
          "output_type": "execute_result",
          "data": {
            "text/html": [
              "<div>\n",
              "<style scoped>\n",
              "    .dataframe tbody tr th:only-of-type {\n",
              "        vertical-align: middle;\n",
              "    }\n",
              "\n",
              "    .dataframe tbody tr th {\n",
              "        vertical-align: top;\n",
              "    }\n",
              "\n",
              "    .dataframe thead th {\n",
              "        text-align: right;\n",
              "    }\n",
              "</style>\n",
              "<table border=\"1\" class=\"dataframe\">\n",
              "  <thead>\n",
              "    <tr style=\"text-align: right;\">\n",
              "      <th></th>\n",
              "      <th>삼성전자</th>\n",
              "      <th>SK하이닉스</th>\n",
              "      <th>어제shift(1)</th>\n",
              "      <th>변동가</th>\n",
              "      <th>어제pct_ch()</th>\n",
              "      <th>이동평균가(rolling)</th>\n",
              "    </tr>\n",
              "  </thead>\n",
              "  <tbody>\n",
              "    <tr>\n",
              "      <th>0</th>\n",
              "      <td>16180</td>\n",
              "      <td>24100</td>\n",
              "      <td>NaN</td>\n",
              "      <td>NaN</td>\n",
              "      <td>0.032120</td>\n",
              "      <td>NaN</td>\n",
              "    </tr>\n",
              "    <tr>\n",
              "      <th>1</th>\n",
              "      <td>16440</td>\n",
              "      <td>23350</td>\n",
              "      <td>24100.0</td>\n",
              "      <td>-750.0</td>\n",
              "      <td>-0.048880</td>\n",
              "      <td>23725.0</td>\n",
              "    </tr>\n",
              "    <tr>\n",
              "      <th>2</th>\n",
              "      <td>16820</td>\n",
              "      <td>24550</td>\n",
              "      <td>23350.0</td>\n",
              "      <td>1200.0</td>\n",
              "      <td>0.006148</td>\n",
              "      <td>23950.0</td>\n",
              "    </tr>\n",
              "    <tr>\n",
              "      <th>3</th>\n",
              "      <td>16260</td>\n",
              "      <td>24400</td>\n",
              "      <td>24550.0</td>\n",
              "      <td>-150.0</td>\n",
              "      <td>-0.010142</td>\n",
              "      <td>24475.0</td>\n",
              "    </tr>\n",
              "    <tr>\n",
              "      <th>4</th>\n",
              "      <td>16420</td>\n",
              "      <td>24650</td>\n",
              "      <td>24400.0</td>\n",
              "      <td>250.0</td>\n",
              "      <td>0.027083</td>\n",
              "      <td>24525.0</td>\n",
              "    </tr>\n",
              "  </tbody>\n",
              "</table>\n",
              "</div>"
            ],
            "text/plain": [
              "    삼성전자  SK하이닉스  어제shift(1)     변동가  어제pct_ch()  이동평균가(rolling)\n",
              "0  16180   24100         NaN     NaN    0.032120             NaN\n",
              "1  16440   23350     24100.0  -750.0   -0.048880         23725.0\n",
              "2  16820   24550     23350.0  1200.0    0.006148         23950.0\n",
              "3  16260   24400     24550.0  -150.0   -0.010142         24475.0\n",
              "4  16420   24650     24400.0   250.0    0.027083         24525.0"
            ]
          },
          "metadata": {
            "tags": []
          },
          "execution_count": 23
        }
      ]
    },
    {
      "cell_type": "code",
      "metadata": {
        "colab": {
          "base_uri": "https://localhost:8080/",
          "height": 282
        },
        "id": "JUXMzHaktuga",
        "outputId": "22320b77-eb4d-4c64-b6f7-cec8a1f005b5"
      },
      "source": [
        "plt.plot(temp['SK하이닉스'].iloc[:20], label='SK하이닉스')\n",
        "plt.plot(temp['이동평균가(rolling)'].iloc[:20], label='이동평균선')\n",
        "plt.legend()"
      ],
      "execution_count": null,
      "outputs": [
        {
          "output_type": "execute_result",
          "data": {
            "text/plain": [
              "<matplotlib.legend.Legend at 0x7f529e56a290>"
            ]
          },
          "metadata": {
            "tags": []
          },
          "execution_count": 24
        },
        {
          "output_type": "display_data",
          "data": {
            "image/png": "[encoded data removed]",
            "text/plain": [
              "<Figure size 432x288 with 1 Axes>"
            ]
          },
          "metadata": {
            "tags": [],
            "needs_background": "light"
          }
        }
      ]
    },
    {
      "cell_type": "markdown",
      "metadata": {
        "id": "RhJlMrHQstdx"
      },
      "source": [
        "## 자산배분 투자 - 기대수익률과 위험 측정"
      ]
    },
    {
      "cell_type": "markdown",
      "metadata": {
        "id": "31LCy1jMHxHi"
      },
      "source": [
        "ref : \"https://m.blog.naver.com/PostView.naver?isHttpsRedirect=true&blogId=anthouse28&logNo=221640874003\""
      ]
    },
    {
      "cell_type": "code",
      "metadata": {
        "colab": {
          "base_uri": "https://localhost:8080/",
          "height": 203
        },
        "id": "0vnbDUJzpapV",
        "outputId": "d6c9bcbc-ade5-4ab0-d35c-ee16cbb385e3"
      },
      "source": [
        "# 각 주식의 수익률 ln(종가/1일전종가)\n",
        "dflog = np.log(df/df.shift(1)).dropna()\n",
        "dflog.head()"
      ],
      "execution_count": null,
      "outputs": [
        {
          "output_type": "execute_result",
          "data": {
            "text/html": [
              "<div>\n",
              "<style scoped>\n",
              "    .dataframe tbody tr th:only-of-type {\n",
              "        vertical-align: middle;\n",
              "    }\n",
              "\n",
              "    .dataframe tbody tr th {\n",
              "        vertical-align: top;\n",
              "    }\n",
              "\n",
              "    .dataframe thead th {\n",
              "        text-align: right;\n",
              "    }\n",
              "</style>\n",
              "<table border=\"1\" class=\"dataframe\">\n",
              "  <thead>\n",
              "    <tr style=\"text-align: right;\">\n",
              "      <th></th>\n",
              "      <th>삼성전자</th>\n",
              "      <th>SK하이닉스</th>\n",
              "      <th>현대자동차</th>\n",
              "      <th>NAVER</th>\n",
              "    </tr>\n",
              "  </thead>\n",
              "  <tbody>\n",
              "    <tr>\n",
              "      <th>1</th>\n",
              "      <td>0.015941</td>\n",
              "      <td>-0.031615</td>\n",
              "      <td>-0.078643</td>\n",
              "      <td>0.000000</td>\n",
              "    </tr>\n",
              "    <tr>\n",
              "      <th>2</th>\n",
              "      <td>0.022851</td>\n",
              "      <td>0.050115</td>\n",
              "      <td>0.009050</td>\n",
              "      <td>-0.005196</td>\n",
              "    </tr>\n",
              "    <tr>\n",
              "      <th>3</th>\n",
              "      <td>-0.033861</td>\n",
              "      <td>-0.006129</td>\n",
              "      <td>-0.046091</td>\n",
              "      <td>0.002602</td>\n",
              "    </tr>\n",
              "    <tr>\n",
              "      <th>4</th>\n",
              "      <td>0.009792</td>\n",
              "      <td>0.010194</td>\n",
              "      <td>0.000000</td>\n",
              "      <td>-0.034343</td>\n",
              "    </tr>\n",
              "    <tr>\n",
              "      <th>5</th>\n",
              "      <td>-0.029668</td>\n",
              "      <td>-0.026723</td>\n",
              "      <td>-0.043380</td>\n",
              "      <td>-0.013536</td>\n",
              "    </tr>\n",
              "  </tbody>\n",
              "</table>\n",
              "</div>"
            ],
            "text/plain": [
              "       삼성전자    SK하이닉스     현대자동차     NAVER\n",
              "1  0.015941 -0.031615 -0.078643  0.000000\n",
              "2  0.022851  0.050115  0.009050 -0.005196\n",
              "3 -0.033861 -0.006129 -0.046091  0.002602\n",
              "4  0.009792  0.010194  0.000000 -0.034343\n",
              "5 -0.029668 -0.026723 -0.043380 -0.013536"
            ]
          },
          "metadata": {
            "tags": []
          },
          "execution_count": 175
        }
      ]
    },
    {
      "cell_type": "code",
      "metadata": {
        "colab": {
          "base_uri": "https://localhost:8080/"
        },
        "id": "vKg8cC7hAjqv",
        "outputId": "ac28e56c-6a55-4620-af61-389a89a9d878"
      },
      "source": [
        "# 연간 기대수익률\n",
        "dflog.mean()*252"
      ],
      "execution_count": null,
      "outputs": [
        {
          "output_type": "execute_result",
          "data": {
            "text/plain": [
              "삼성전자      0.126562\n",
              "SK하이닉스    0.139254\n",
              "현대자동차     0.001281\n",
              "NAVER     0.114951\n",
              "dtype: float64"
            ]
          },
          "metadata": {
            "tags": []
          },
          "execution_count": 176
        }
      ]
    },
    {
      "cell_type": "markdown",
      "metadata": {
        "id": "JjnwHqF4BoRA"
      },
      "source": [
        "# 투자의 가장 효율적인 배분은?\n",
        "- 포트폴리오 최적화\n",
        "- 리스크를 낮추면서 수익률이 높은 경우 찾기"
      ]
    },
    {
      "cell_type": "markdown",
      "metadata": {
        "id": "pinTtuLlDq8A"
      },
      "source": [
        "### 리스크\n",
        "* 변동성 =  분산(기대(평균)수익률로부터 +- 변동성)\n",
        "* 변동성 크다  => 리스크가 크다\n",
        "* 공분산, 편차\n"
      ]
    },
    {
      "cell_type": "code",
      "metadata": {
        "colab": {
          "base_uri": "https://localhost:8080/"
        },
        "id": "tGQAYbMBDBgv",
        "outputId": "673944e1-0ed9-4646-adb1-92412376c0fc"
      },
      "source": [
        "#각 주식의 변동성\n",
        "stddf = dflog.std()\n",
        "year_std = stddf*np.sqrt(252)\n",
        "print(year_std)"
      ],
      "execution_count": null,
      "outputs": [
        {
          "output_type": "stream",
          "text": [
            "삼성전자      0.268497\n",
            "SK하이닉스    0.379076\n",
            "현대자동차     0.312276\n",
            "NAVER     0.350546\n",
            "dtype: float64\n"
          ],
          "name": "stdout"
        }
      ]
    },
    {
      "cell_type": "code",
      "metadata": {
        "colab": {
          "base_uri": "https://localhost:8080/"
        },
        "id": "A_gwhmsODpMb",
        "outputId": "eed0b1b8-fb96-458f-cf6a-e43d8512045a"
      },
      "source": [
        "#두 주식의 공분산 행렬 \n",
        "day_cov = dflog.cov()\n",
        "year_cov = day_cov*252\n",
        "print(year_cov)"
      ],
      "execution_count": null,
      "outputs": [
        {
          "output_type": "stream",
          "text": [
            "            삼성전자    SK하이닉스     현대자동차     NAVER\n",
            "삼성전자    0.072091  0.047507  0.020093  0.016949\n",
            "SK하이닉스  0.047507  0.143698  0.024705  0.016012\n",
            "현대자동차   0.020093  0.024705  0.097517  0.011607\n",
            "NAVER   0.016949  0.016012  0.011607  0.122882\n"
          ],
          "name": "stdout"
        }
      ]
    },
    {
      "cell_type": "markdown",
      "metadata": {
        "id": "P9grymjSEh3U"
      },
      "source": [
        "## 효율적 투자선\n",
        "- 수익 대비 리스크가 어느정도인가"
      ]
    },
    {
      "cell_type": "code",
      "metadata": {
        "id": "WMKA2w5YZLMj"
      },
      "source": [
        "stocks = dflog.columns\n",
        "y_risks = dflog[stocks].cov()*252\n",
        "y_returns = dflog[stocks].mean()*252"
      ],
      "execution_count": null,
      "outputs": []
    },
    {
      "cell_type": "code",
      "metadata": {
        "colab": {
          "base_uri": "https://localhost:8080/"
        },
        "id": "KHOG8ITaaM9f",
        "outputId": "126ccc7b-ec2f-4bef-f4df-b45cacc955d4"
      },
      "source": [
        "y_returns"
      ],
      "execution_count": null,
      "outputs": [
        {
          "output_type": "execute_result",
          "data": {
            "text/plain": [
              "삼성전자      0.126562\n",
              "SK하이닉스    0.139254\n",
              "현대자동차     0.001281\n",
              "NAVER     0.114951\n",
              "dtype: float64"
            ]
          },
          "metadata": {
            "tags": []
          },
          "execution_count": 192
        }
      ]
    },
    {
      "cell_type": "markdown",
      "metadata": {
        "id": "d_P9L2VvGIBB"
      },
      "source": [
        "### 수익률, 리스크 계산"
      ]
    },
    {
      "cell_type": "code",
      "metadata": {
        "id": "iPPo4L44FG_T"
      },
      "source": [
        "risk_list = []\n",
        "return_list = []\n",
        "w_list= []\n",
        "np.random.seed(121)\n",
        "for i in range(10000):\n",
        "  w = np.random.random(len(stocks))\n",
        "  w = w / np.sum(w)\n",
        "  expected_return =np.sum(y_returns*w)  #np.dot(w.T, y_returns) \n",
        "  expected_risk = np.sqrt(np.dot(w.T, np.dot(y_risks, w)))\n",
        "  w_list.append(w)\n",
        "  return_list.append(expected_return)\n",
        "  risk_list.append(expected_risk)\n",
        "  \n",
        "\n",
        "port_df = pd.DataFrame({\"수익률\": return_list, \n",
        "                        \"리스크\": risk_list})\n",
        "\n",
        "for i in range(len(stocks)):\n",
        "  port_df[\"w_\"+str(i)] = np.array(w_list)[:,i]"
      ],
      "execution_count": null,
      "outputs": []
    },
    {
      "cell_type": "code",
      "metadata": {
        "colab": {
          "base_uri": "https://localhost:8080/",
          "height": 417
        },
        "id": "j6V94jt7SGaa",
        "outputId": "e0573a6c-edda-4bea-f837-d7848cf92ded"
      },
      "source": [
        "port_df"
      ],
      "execution_count": null,
      "outputs": [
        {
          "output_type": "execute_result",
          "data": {
            "text/html": [
              "<div>\n",
              "<style scoped>\n",
              "    .dataframe tbody tr th:only-of-type {\n",
              "        vertical-align: middle;\n",
              "    }\n",
              "\n",
              "    .dataframe tbody tr th {\n",
              "        vertical-align: top;\n",
              "    }\n",
              "\n",
              "    .dataframe thead th {\n",
              "        text-align: right;\n",
              "    }\n",
              "</style>\n",
              "<table border=\"1\" class=\"dataframe\">\n",
              "  <thead>\n",
              "    <tr style=\"text-align: right;\">\n",
              "      <th></th>\n",
              "      <th>수익률</th>\n",
              "      <th>리스크</th>\n",
              "      <th>w_0</th>\n",
              "      <th>w_1</th>\n",
              "      <th>w_2</th>\n",
              "      <th>w_3</th>\n",
              "    </tr>\n",
              "  </thead>\n",
              "  <tbody>\n",
              "    <tr>\n",
              "      <th>0</th>\n",
              "      <td>0.086569</td>\n",
              "      <td>0.216941</td>\n",
              "      <td>0.157468</td>\n",
              "      <td>0.298113</td>\n",
              "      <td>0.329506</td>\n",
              "      <td>0.214913</td>\n",
              "    </tr>\n",
              "    <tr>\n",
              "      <th>1</th>\n",
              "      <td>0.097772</td>\n",
              "      <td>0.206234</td>\n",
              "      <td>0.326917</td>\n",
              "      <td>0.160635</td>\n",
              "      <td>0.218866</td>\n",
              "      <td>0.293581</td>\n",
              "    </tr>\n",
              "    <tr>\n",
              "      <th>2</th>\n",
              "      <td>0.084171</td>\n",
              "      <td>0.227280</td>\n",
              "      <td>0.093432</td>\n",
              "      <td>0.364200</td>\n",
              "      <td>0.358193</td>\n",
              "      <td>0.184175</td>\n",
              "    </tr>\n",
              "    <tr>\n",
              "      <th>3</th>\n",
              "      <td>0.101829</td>\n",
              "      <td>0.241682</td>\n",
              "      <td>0.009613</td>\n",
              "      <td>0.450585</td>\n",
              "      <td>0.212754</td>\n",
              "      <td>0.327047</td>\n",
              "    </tr>\n",
              "    <tr>\n",
              "      <th>4</th>\n",
              "      <td>0.105812</td>\n",
              "      <td>0.233553</td>\n",
              "      <td>0.134390</td>\n",
              "      <td>0.422949</td>\n",
              "      <td>0.184549</td>\n",
              "      <td>0.258113</td>\n",
              "    </tr>\n",
              "    <tr>\n",
              "      <th>...</th>\n",
              "      <td>...</td>\n",
              "      <td>...</td>\n",
              "      <td>...</td>\n",
              "      <td>...</td>\n",
              "      <td>...</td>\n",
              "      <td>...</td>\n",
              "    </tr>\n",
              "    <tr>\n",
              "      <th>9995</th>\n",
              "      <td>0.073960</td>\n",
              "      <td>0.224538</td>\n",
              "      <td>0.085176</td>\n",
              "      <td>0.302664</td>\n",
              "      <td>0.434026</td>\n",
              "      <td>0.178134</td>\n",
              "    </tr>\n",
              "    <tr>\n",
              "      <th>9996</th>\n",
              "      <td>0.081065</td>\n",
              "      <td>0.204166</td>\n",
              "      <td>0.312242</td>\n",
              "      <td>0.078411</td>\n",
              "      <td>0.346764</td>\n",
              "      <td>0.262583</td>\n",
              "    </tr>\n",
              "    <tr>\n",
              "      <th>9997</th>\n",
              "      <td>0.105749</td>\n",
              "      <td>0.224504</td>\n",
              "      <td>0.368714</td>\n",
              "      <td>0.323172</td>\n",
              "      <td>0.187707</td>\n",
              "      <td>0.120407</td>\n",
              "    </tr>\n",
              "    <tr>\n",
              "      <th>9998</th>\n",
              "      <td>0.080263</td>\n",
              "      <td>0.206151</td>\n",
              "      <td>0.332667</td>\n",
              "      <td>0.019842</td>\n",
              "      <td>0.343388</td>\n",
              "      <td>0.304102</td>\n",
              "    </tr>\n",
              "    <tr>\n",
              "      <th>9999</th>\n",
              "      <td>0.094722</td>\n",
              "      <td>0.223239</td>\n",
              "      <td>0.257214</td>\n",
              "      <td>0.040006</td>\n",
              "      <td>0.212791</td>\n",
              "      <td>0.489989</td>\n",
              "    </tr>\n",
              "  </tbody>\n",
              "</table>\n",
              "<p>10000 rows × 6 columns</p>\n",
              "</div>"
            ],
            "text/plain": [
              "           수익률       리스크       w_0       w_1       w_2       w_3\n",
              "0     0.086569  0.216941  0.157468  0.298113  0.329506  0.214913\n",
              "1     0.097772  0.206234  0.326917  0.160635  0.218866  0.293581\n",
              "2     0.084171  0.227280  0.093432  0.364200  0.358193  0.184175\n",
              "3     0.101829  0.241682  0.009613  0.450585  0.212754  0.327047\n",
              "4     0.105812  0.233553  0.134390  0.422949  0.184549  0.258113\n",
              "...        ...       ...       ...       ...       ...       ...\n",
              "9995  0.073960  0.224538  0.085176  0.302664  0.434026  0.178134\n",
              "9996  0.081065  0.204166  0.312242  0.078411  0.346764  0.262583\n",
              "9997  0.105749  0.224504  0.368714  0.323172  0.187707  0.120407\n",
              "9998  0.080263  0.206151  0.332667  0.019842  0.343388  0.304102\n",
              "9999  0.094722  0.223239  0.257214  0.040006  0.212791  0.489989\n",
              "\n",
              "[10000 rows x 6 columns]"
            ]
          },
          "metadata": {
            "tags": []
          },
          "execution_count": 201
        }
      ]
    },
    {
      "cell_type": "code",
      "metadata": {
        "colab": {
          "base_uri": "https://localhost:8080/",
          "height": 286
        },
        "id": "F72vp6KWJl66",
        "outputId": "c545601f-0f5f-43b7-eb00-f465395dc314"
      },
      "source": [
        "plt.scatter(port_df['리스크'], port_df['수익률'],\n",
        "            c= port_df['수익률']/port_df['리스크'],marker= '.')\n",
        "\n",
        "plt.colorbar(label = 'Sharpe ratio')"
      ],
      "execution_count": null,
      "outputs": [
        {
          "output_type": "execute_result",
          "data": {
            "text/plain": [
              "<matplotlib.colorbar.Colorbar at 0x7f5291045a90>"
            ]
          },
          "metadata": {
            "tags": []
          },
          "execution_count": 195
        },
        {
          "output_type": "display_data",
          "data": {
            "image/png": "[encoded data removed]",
            "text/plain": [
              "<Figure size 432x288 with 2 Axes>"
            ]
          },
          "metadata": {
            "tags": [],
            "needs_background": "light"
          }
        }
      ]
    },
    {
      "cell_type": "markdown",
      "metadata": {
        "id": "UNhKrPSIQ8SM"
      },
      "source": [
        "### 샤프지수\n",
        "- 샤프지수 = (포트폴리오 기대수익률- 무위험자산 수익률)/ 포트폴리오 수익률의 표준편차"
      ]
    },
    {
      "cell_type": "code",
      "metadata": {
        "id": "IPMqSYuGVDMz"
      },
      "source": [
        "샤프지수 = port_df['수익률']/ port_df['리스크']"
      ],
      "execution_count": null,
      "outputs": []
    },
    {
      "cell_type": "code",
      "metadata": {
        "colab": {
          "base_uri": "https://localhost:8080/",
          "height": 80
        },
        "id": "HihYGRyCWXom",
        "outputId": "ef1f8c24-c84c-4723-9c69-523e53f6e535"
      },
      "source": [
        "# 최대수익률\n",
        "port_df.iloc[샤프지수[샤프지수== max(샤프지수)].index,:]"
      ],
      "execution_count": null,
      "outputs": [
        {
          "output_type": "execute_result",
          "data": {
            "text/html": [
              "<div>\n",
              "<style scoped>\n",
              "    .dataframe tbody tr th:only-of-type {\n",
              "        vertical-align: middle;\n",
              "    }\n",
              "\n",
              "    .dataframe tbody tr th {\n",
              "        vertical-align: top;\n",
              "    }\n",
              "\n",
              "    .dataframe thead th {\n",
              "        text-align: right;\n",
              "    }\n",
              "</style>\n",
              "<table border=\"1\" class=\"dataframe\">\n",
              "  <thead>\n",
              "    <tr style=\"text-align: right;\">\n",
              "      <th></th>\n",
              "      <th>수익률</th>\n",
              "      <th>리스크</th>\n",
              "      <th>w_0</th>\n",
              "      <th>w_1</th>\n",
              "      <th>w_2</th>\n",
              "      <th>w_3</th>\n",
              "    </tr>\n",
              "  </thead>\n",
              "  <tbody>\n",
              "    <tr>\n",
              "      <th>1679</th>\n",
              "      <td>0.126056</td>\n",
              "      <td>0.227838</td>\n",
              "      <td>0.51827</td>\n",
              "      <td>0.220631</td>\n",
              "      <td>0.002418</td>\n",
              "      <td>0.258681</td>\n",
              "    </tr>\n",
              "  </tbody>\n",
              "</table>\n",
              "</div>"
            ],
            "text/plain": [
              "           수익률       리스크      w_0       w_1       w_2       w_3\n",
              "1679  0.126056  0.227838  0.51827  0.220631  0.002418  0.258681"
            ]
          },
          "metadata": {
            "tags": []
          },
          "execution_count": 203
        }
      ]
    },
    {
      "cell_type": "code",
      "metadata": {
        "id": "-QhYQI7vWfkj"
      },
      "source": [
        ""
      ],
      "execution_count": null,
      "outputs": []
    }
  ]
}